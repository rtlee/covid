{
 "cells": [
  {
   "cell_type": "code",
   "execution_count": null,
   "metadata": {},
   "outputs": [],
   "source": [
    "import pandas as pd\n",
    "import plotly.graph_objects as go\n",
    "import requests\n",
    "import zipfile\n",
    "import io\n",
    "from pathlib import Path\n"
   ]
  },
  {
   "cell_type": "code",
   "execution_count": null,
   "metadata": {},
   "outputs": [],
   "source": [
    "outdir = Path('output')\n",
    "if not outdir.exists():\n",
    "    outdir.mkdir()"
   ]
  },
  {
   "cell_type": "code",
   "execution_count": null,
   "metadata": {},
   "outputs": [],
   "source": [
    "#pull down the data\n",
    "r = requests.get('https://ihmecovid19storage.blob.core.windows.net/latest/ihme-covid19.zip')\n",
    "\n",
    "#get a pointer to the zipfile\n",
    "z = zipfile.ZipFile(io.BytesIO(r.content))\n",
    "\n",
    "#find the name of the embedded csv file, something like '2020_04_09.04/Hospitalization_all_locs.csv'\n",
    "for file in z.filelist:\n",
    "    if '.csv' in file.filename:\n",
    "        csvfile = file.filename\n",
    "\n",
    "#if I don't want to keep the csv file, just do this\n",
    "#ihme = pd.read_csv(z.open(csvfile))\n",
    "\n",
    "#figure out what I want to name the output (use the directory name + .csv)\n",
    "outfile = outdir / Path(csvfile.split('/')[0] + '.csv')\n",
    "\n",
    "#extract the csv and write it to my file\n",
    "with z.open(csvfile) as zf, open(outfile,'wb') as f:\n",
    "    f.write(zf.read())\n",
    "\n",
    "#load the csv file into a pandas dataframe\n",
    "ihme = pd.read_csv(outfile)\n",
    "\n",
    "#filter to just Georgia\n",
    "ga_ihme = ihme[ihme['location_name']=='Georgia']\n",
    "\n",
    "#write the Georgia data to a CSV\n",
    "GAoutfile = outdir / Path(csvfile.split('/')[0] + '.ga.csv')\n",
    "ga_ihme.to_csv(GAoutfile)\n",
    "\n",
    "#print a few lines\n",
    "ga_ihme"
   ]
  },
  {
   "cell_type": "code",
   "execution_count": null,
   "metadata": {},
   "outputs": [],
   "source": [
    "#population data for each region\n",
    "pop_region = {'A':437225,'B':419825,'C':522432,\n",
    "              'D':3472810,'E':540645,'F':814248,\n",
    "              'G':467607,'H':277781,'I':424343,\n",
    "              'J':775422,'K':401738,'L':240045,\n",
    "              'M':218716,'N':1284647}\n",
    "\n",
    "#I want the same columns, so make a copy of the main dataframe but delete the data\n",
    "ga_ihme_by_region = ga_ihme[0:0]\n",
    "\n",
    "#loop over the regions\n",
    "for region in pop_region.keys():\n",
    "    #start by copying the state data\n",
    "    tempdata = ga_ihme.copy()\n",
    "    \n",
    "    #change name from 'Georgia' to 'Georgia-Region'\n",
    "    tempdata['location_name'] = tempdata['location_name'] + '-' + region\n",
    "    \n",
    "    #scale everything by the first few columns\n",
    "    tempdata.iloc[:,3:] = pop_region[region] / sum(pop_region.values()) * tempdata.iloc[:,3:]\n",
    "\n",
    "    #append this regional data to the combined dataframe\n",
    "    ga_ihme_by_region = ga_ihme_by_region.append(tempdata,ignore_index=True)\n",
    "    \n",
    "#write the Georgia-Region data to a CSV\n",
    "GAoutfile = outdir / Path(csvfile.split('/')[0] + '.ga-region.csv')\n",
    "ga_ihme_by_region.to_csv(GAoutfile)\n",
    "\n",
    "#print a few lines\n",
    "ga_ihme_by_region"
   ]
  },
  {
   "cell_type": "code",
   "execution_count": null,
   "metadata": {},
   "outputs": [],
   "source": [
    "#make a figure of the allbed data\n",
    "fig = go.Figure()\n",
    "fig.add_trace(go.Scatter(x=ga_ihme['date'],y=ga_ihme['allbed_mean'],name='allbed_mean'))\n",
    "fig.add_trace(go.Scatter(x=ga_ihme['date'],y=ga_ihme['allbed_lower'],name='allbed_lower'))\n",
    "fig.add_trace(go.Scatter(x=ga_ihme['date'],y=ga_ihme['allbed_upper'],name='allbed_upper'))\n",
    "fig.show()"
   ]
  },
  {
   "cell_type": "code",
   "execution_count": null,
   "metadata": {},
   "outputs": [],
   "source": [
    "#make a figure of the allbed data (exmample for just region A)\n",
    "fig = go.Figure()\n",
    "regionA = ga_ihme_by_region[ga_ihme_by_region['location_name'] == 'Georgia-A']\n",
    "fig.add_trace(go.Scatter(x=regionA['date'],y=regionA['allbed_mean'],name='allbed_meanA'))\n",
    "fig.add_trace(go.Scatter(x=regionA['date'],y=regionA['allbed_lower'],name='allbed_lowerA'))\n",
    "fig.add_trace(go.Scatter(x=regionA['date'],y=regionA['allbed_upper'],name='allbed_upperA'))\n",
    "fig.show()"
   ]
  },
  {
   "cell_type": "code",
   "execution_count": null,
   "metadata": {},
   "outputs": [],
   "source": [
    "#find the max of each data column\n",
    "#note that these might not occur on the same day\n",
    "maxdata = pd.DataFrame(ga_ihme.iloc[:,3:].max(),\n",
    "                  columns=['State'])\n",
    "\n",
    "#find the row IDs for the peak of each column\n",
    "maxIDs = ga_ihme.iloc[:,3:].idxmax()\n",
    "\n",
    "#add a blank column for the dates\n",
    "maxdata['Date'] = \"\"\n",
    "maxdata = maxdata[['Date','State']]\n",
    "\n",
    "#loop over the fields (i.e., allbed_mean, allbed_lower, etc.) and set the date\n",
    "#to the date that field will peak\n",
    "for label in maxIDs.index:\n",
    "    maxdata.loc[label,'Date'] = ga_ihme.loc[maxIDs[label],'date']\n",
    "    \n",
    "#loop over regions\n",
    "for region in pop_region.keys():\n",
    "    regionname = 'Georgia-' + region\n",
    "    df2 = pd.DataFrame(ga_ihme_by_region[ga_ihme_by_region['location_name']==regionname].iloc[:,3:].max(),\n",
    "                            columns=[region])\n",
    "\n",
    "    maxdata = maxdata.join(df2)\n",
    "\n",
    "#write to CSV\n",
    "peakoutfile = outdir / Path(csvfile.split('/')[0] + '.ga-peaks.csv')\n",
    "maxdata.to_csv(peakoutfile)\n",
    "\n",
    "#print to screen\n",
    "maxdata"
   ]
  },
  {
   "cell_type": "code",
   "execution_count": null,
   "metadata": {},
   "outputs": [],
   "source": [
    "#similar to above, but for the actual data from covidtracking.com\n",
    "#this data source gives a simple csv instead of a zip, so I'll just load it directly\n",
    "actuals = pd.read_csv(\"https://covidtracking.com/api/states/daily.csv?state=GA\")\n",
    "\n",
    "#the date field is really a string with YYYYMMDD format, convert to a python datetime field\n",
    "actuals['date'] = pd.to_datetime(actuals['date'],format='%Y%m%d')\n",
    "\n",
    "#this data goes back months, but GA reporting only started in March. Drop the blank lines.\n",
    "actuals = actuals.dropna(subset=['hospitalizedCumulative'])\n",
    "\n",
    "#print the first few lines\n",
    "actuals.head()"
   ]
  },
  {
   "cell_type": "code",
   "execution_count": null,
   "metadata": {},
   "outputs": [],
   "source": [
    "#make a figure of the cumulative hospitalizations\n",
    "fig = go.Figure(data=go.Scatter(x=actuals['date'],y=actuals['hospitalizedCumulative']))\n",
    "fig.show()"
   ]
  },
  {
   "cell_type": "code",
   "execution_count": null,
   "metadata": {},
   "outputs": [],
   "source": []
  },
  {
   "cell_type": "code",
   "execution_count": null,
   "metadata": {},
   "outputs": [],
   "source": []
  }
 ],
 "metadata": {
  "kernelspec": {
   "display_name": "Python 3",
   "language": "python",
   "name": "python3"
  },
  "language_info": {
   "codemirror_mode": {
    "name": "ipython",
    "version": 3
   },
   "file_extension": ".py",
   "mimetype": "text/x-python",
   "name": "python",
   "nbconvert_exporter": "python",
   "pygments_lexer": "ipython3",
   "version": "3.8.2"
  }
 },
 "nbformat": 4,
 "nbformat_minor": 4
}
